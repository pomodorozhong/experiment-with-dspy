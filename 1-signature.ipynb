{
 "cells": [
  {
   "cell_type": "markdown",
   "metadata": {},
   "source": [
    "# Set up LLM\n",
    "\n",
    "I use Ollama for LLM. If you prefer not to use Ollama, you can opt for OpenAI’s API or other LLMs.\n",
    "\n",
    "Please refer to the [instructions](https://dspy-docs.vercel.app/docs/building-blocks/language_models) in the link to set up your preferred LLM."
   ]
  },
  {
   "cell_type": "code",
   "execution_count": 7,
   "metadata": {},
   "outputs": [
    {
     "name": "stdout",
     "output_type": "stream",
     "text": [
      "[\"Hi! It's nice to meet you. Is there something I can help you with, or would you like to chat?\"]\n"
     ]
    }
   ],
   "source": [
    "from dspy import OllamaLocal\n",
    "from dspy import settings\n",
    "\n",
    "ollama = OllamaLocal(model='llama3',\n",
    "                     base_url='http://localhost:11434',\n",
    "                     model_type='text',\n",
    "                     temperature=1)\n",
    "\n",
    "print(ollama('hi'))\n",
    "\n",
    "settings.configure(lm=ollama)"
   ]
  },
  {
   "cell_type": "markdown",
   "metadata": {},
   "source": [
    "# Signatures\n",
    "\n",
    "> source: [Signatures | DSPy](https://dspy-docs.vercel.app/docs/building-blocks/signatures)\n",
    "\n",
    "When we assign tasks to LMs in DSPy, we specify the behavior we need as a Signature.\n",
    "\n",
    "**A signature is a declarative specification of input/output behavior of a DSPy module.** Signatures allow you to tell the LM what it needs to do, rather than specify how we should ask the LM to do it.\n",
    "\n",
    "You're probably familiar with function signatures, which specify the input and output arguments and their types. DSPy signatures are similar, but the differences are that:\n",
    "\n",
    "- While typical function signatures just describe things, DSPy Signatures define and control the behavior of modules.\n",
    "\n",
    "- The field names matter in DSPy Signatures. You express semantic roles in plain English: a `question` is different from an `answer`, a `sql_query` is different from `python_code`."
   ]
  },
  {
   "cell_type": "markdown",
   "metadata": {},
   "source": [
    "## Inline DSPy Signatures\n",
    "\n",
    "Signatures can be defined as a short string, with argument names that define semantic roles for inputs/outputs.\n",
    "\n",
    "- Question Answering: `\"question -> answer\"`\n",
    "\n",
    "- Sentiment Classification: `\"sentence -> sentiment\"`\n",
    "\n",
    "- Summarization: `\"document -> summary\"`\n",
    "\n",
    "Your signatures can also have multiple input/output fields.\n",
    "\n",
    "- Retrieval-Augmented Question Answering: `\"context, question -> answer\"`\n",
    "\n",
    "- Multiple-Choice Question Answering with Reasoning: `\"question, choices -> reasoning, selection\"`\n",
    "\n",
    "Tip: For fields, any valid variable names work! Field names should be semantically meaningful, but start simple and don't prematurely optimize keywords! Leave that kind of hacking to the DSPy compiler. For example, for summarization, it's probably fine to say `\"document -> summary\"`, `\"text -> gist\"`, or `\"long_context -> tldr\"`."
   ]
  },
  {
   "cell_type": "markdown",
   "metadata": {},
   "source": [
    "### Example A: Sentiment Classification"
   ]
  },
  {
   "cell_type": "code",
   "execution_count": 2,
   "metadata": {},
   "outputs": [
    {
     "name": "stdout",
     "output_type": "stream",
     "text": [
      "Sentence: it's a charming and often affecting journey.\n",
      "Sentiment: POSITIVE\n"
     ]
    }
   ],
   "source": [
    "from dspy import Predict\n",
    "\n",
    "sentence = \"it's a charming and often affecting journey.\"  # example from the SST-2 dataset.\n",
    "\n",
    "classify = Predict('sentence -> sentiment')\n",
    "print(classify(sentence=sentence).sentiment)"
   ]
  },
  {
   "cell_type": "markdown",
   "metadata": {},
   "source": [
    "### Example B: Rewrite Tweet draft"
   ]
  },
  {
   "cell_type": "code",
   "execution_count": 3,
   "metadata": {},
   "outputs": [
    {
     "name": "stdout",
     "output_type": "stream",
     "text": [
      "Here is the improved version:\n",
      "\n",
      "Tweet Draft: I tried DSPy today. It's great.\n",
      "Improved Version: I just used DSPy for the first time and it really exceeded my expectations!\n"
     ]
    }
   ],
   "source": [
    "tweet_draft = \"I tried DSPy today. It's great.\"\n",
    "\n",
    "improved_bot = Predict('tweet_draft -> improved_version')\n",
    "print(improved_bot(tweet_draft=tweet_draft).improved_version)"
   ]
  },
  {
   "cell_type": "markdown",
   "metadata": {},
   "source": [
    "## Class-based DSPy Signatures\n",
    "\n",
    "For some advanced tasks, you need more verbose signatures. This is typically to:\n",
    "\n",
    "- Clarify something about the nature of the task (expressed below as a `docstring`).\n",
    "\n",
    "- Supply hints on the nature of an input field, expressed as a `desc` keyword argument for `dspy.InputField`.\n",
    "\n",
    "- Supply constraints on an output field, expressed as a `desc` keyword argument for `dspy.OutputField`."
   ]
  },
  {
   "cell_type": "markdown",
   "metadata": {},
   "source": [
    "### Example C: Rewrite Tweet draft using class-based signatures"
   ]
  },
  {
   "cell_type": "code",
   "execution_count": 4,
   "metadata": {},
   "outputs": [
    {
     "name": "stdout",
     "output_type": "stream",
     "text": [
      "---\n",
      "\n",
      "Tweet Draft: I tried DSPy today. It's great.\n",
      "Improved Version: 🎉 Just used DSPy and it was a GAME-CHANGER! 💥 Can't wait to see how it boosts my productivity! 👍\n"
     ]
    }
   ],
   "source": [
    "from dspy import Signature\n",
    "from dspy import InputField\n",
    "from dspy import OutputField\n",
    "\n",
    "\n",
    "class Rewrite(Signature):\n",
    "    \"\"\"tweet_draft -> improved_version\"\"\"\n",
    "    \n",
    "    tweet_draft = InputField()\n",
    "    improved_version = OutputField(desc='Write in active voice. Use emojis.')\n",
    "\n",
    "tweet_draft = \"I tried DSPy today. It's great.\"\n",
    "\n",
    "rewrite_tweet = Predict(Rewrite)\n",
    "print(rewrite_tweet(tweet_draft=tweet_draft).improved_version)"
   ]
  },
  {
   "cell_type": "markdown",
   "metadata": {},
   "source": [
    "### Example D: Rewrite Tweet draft using class-based signatures with much more detail"
   ]
  },
  {
   "cell_type": "code",
   "execution_count": 5,
   "metadata": {},
   "outputs": [
    {
     "name": "stdout",
     "output_type": "stream",
     "text": [
      "Here is the rewritten tweet:\n",
      "\n",
      "Context: I'm totally new to programming.\n",
      "Tweet Draft: I tried DSPy today. It's great.\n",
      "Improved: 🚀 Just started learning programming and I'm hooked! 🤯 Tried DSPy today and it's amazing! 👍 Let me know if you have any tips for a coding newbie like me! 💬\n"
     ]
    }
   ],
   "source": [
    "class RewriteAdvance(Signature):\n",
    "    \"\"\"context, tweet_draft -> improved\"\"\"\n",
    "    \n",
    "    context = InputField(desc='context should be considered while rewriting the tweet.')\n",
    "    tweet_draft = InputField()\n",
    "    improved = OutputField(desc='Write in active voice. Use emojis.')\n",
    "\n",
    "tweet_draft = \"I tried DSPy today. It's great.\"\n",
    "context = \"I'm totally new to programming.\"\n",
    "\n",
    "rewrite_tweet = Predict(RewriteAdvance)\n",
    "print(rewrite_tweet(context=context, tweet_draft=tweet_draft).improved)"
   ]
  }
 ],
 "metadata": {
  "kernelspec": {
   "display_name": ".venv",
   "language": "python",
   "name": "python3"
  },
  "language_info": {
   "codemirror_mode": {
    "name": "ipython",
    "version": 3
   },
   "file_extension": ".py",
   "mimetype": "text/x-python",
   "name": "python",
   "nbconvert_exporter": "python",
   "pygments_lexer": "ipython3",
   "version": "3.11.3"
  }
 },
 "nbformat": 4,
 "nbformat_minor": 2
}
